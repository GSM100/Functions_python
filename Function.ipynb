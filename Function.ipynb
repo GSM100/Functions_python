{
  "nbformat": 4,
  "nbformat_minor": 0,
  "metadata": {
    "colab": {
      "provenance": []
    },
    "kernelspec": {
      "name": "python3",
      "display_name": "Python 3"
    },
    "language_info": {
      "name": "python"
    }
  },
  "cells": [
    {
      "cell_type": "code",
      "execution_count": null,
      "metadata": {
        "id": "8tiS38zwPtqd"
      },
      "outputs": [],
      "source": []
    },
    {
      "cell_type": "markdown",
      "source": [
        "1. What is the difference between a function and a method in Python?\n",
        "\n",
        "   -  Function: A function is an independent block of reusable code that is defined using the def keyword. It can be called anywhere in a program.\n",
        "Method: A method is a function that belongs to a class and operates on its instances. Methods are defined inside a class and are typically called using an object (object.method()).\n",
        "\n",
        "     Example:"
      ],
      "metadata": {
        "id": "RerOoaKDQChg"
      }
    },
    {
      "cell_type": "code",
      "source": [
        "# Function\n",
        "def greet(name):\n",
        "    return f\"Hello, {name}!\"\n",
        "\n",
        "# Method inside a class\n",
        "class Greeter:\n",
        "    def greet(self, name):\n",
        "        return f\"Hello, {name}!\""
      ],
      "metadata": {
        "id": "ZwQvxlqrQtbk"
      },
      "execution_count": null,
      "outputs": []
    },
    {
      "cell_type": "markdown",
      "source": [
        "2. Explain the concept of function arguments and parameters in Python.\n",
        "\n",
        "   -  Parameter: A variable listed in the function definition.\n",
        "\n",
        "     Argument: The actual value passed to the function when calling it.\n",
        "     \n",
        "     Example:"
      ],
      "metadata": {
        "id": "lCNlgoc0Q8cW"
      }
    },
    {
      "cell_type": "code",
      "source": [
        "def add(a, b):  # 'a' and 'b' are parameters\n",
        "    return a + b\n",
        "\n",
        "result = add(3, 5)  # 3 and 5 are arguments\n",
        "print(result)"
      ],
      "metadata": {
        "colab": {
          "base_uri": "https://localhost:8080/"
        },
        "id": "kZVvNr9WRZcK",
        "outputId": "8add81b6-4f9a-4a23-edf8-99913a885d51"
      },
      "execution_count": null,
      "outputs": [
        {
          "output_type": "stream",
          "name": "stdout",
          "text": [
            "8\n"
          ]
        }
      ]
    },
    {
      "cell_type": "markdown",
      "source": [
        "Types of arguments:\n",
        "\n",
        "Positional Arguments: Passed in order.\n",
        "\n",
        "Keyword Arguments: Passed with parameter names (func(x=10, y=5)).\n",
        "\n",
        "Default Arguments: Parameters with default values.\n",
        "\n",
        "Arbitrary Arguments:\n",
        "\n",
        "*args (for multiple positional arguments)\n",
        "\n",
        "**kwargs (for multiple keyword arguments)"
      ],
      "metadata": {
        "id": "gzaioh5CSYwl"
      }
    },
    {
      "cell_type": "markdown",
      "source": [
        "3. What are the different ways to define and call a function in Python?"
      ],
      "metadata": {
        "id": "XohyvV_ZSy48"
      }
    },
    {
      "cell_type": "code",
      "source": [
        "#Ways to Define and Call a Function in Python\n",
        "# Defining a function using\n",
        "\n",
        "def square(x):\n",
        "    return x * x\n",
        "\n",
        "#Calling a function:\n",
        "\n",
        "result = square(4)\n",
        "\n",
        "#Using lambda (anonymous function):\n",
        "\n",
        "square = lambda x: x * x\n",
        "print(square(4))\n",
        "\n",
        "#Using functools.partial for pre-filled functions:\n",
        "\n",
        "from functools import partial\n",
        "def power(base, exponent):\n",
        "    return base ** exponent\n",
        "\n",
        "square = partial(power, exponent=2)\n",
        "print(square(5))  # Output: 25"
      ],
      "metadata": {
        "colab": {
          "base_uri": "https://localhost:8080/"
        },
        "id": "7T7aOlvwUQht",
        "outputId": "cafb0212-ac29-4e22-b6b2-ea3d1e1c4476"
      },
      "execution_count": null,
      "outputs": [
        {
          "output_type": "stream",
          "name": "stdout",
          "text": [
            "16\n",
            "25\n"
          ]
        }
      ]
    },
    {
      "cell_type": "markdown",
      "source": [],
      "metadata": {
        "id": "rUUqx0SgQ6CV"
      }
    },
    {
      "cell_type": "markdown",
      "source": [
        "4. What is the purpose of the return statement in a Python function?\n",
        "\n",
        "    -  Purpose of the return Statement\n",
        "The return statement is used to send back a result from a function to the caller. Without return, a function returns None by default.\n",
        "\n",
        "      Example:"
      ],
      "metadata": {
        "id": "uJVlzn1iV8Ky"
      }
    },
    {
      "cell_type": "code",
      "source": [
        "def multiply(a, b):\n",
        "    return a * b\n",
        "\n",
        "result = multiply(3, 4)  # result = 12\n",
        "print(result)"
      ],
      "metadata": {
        "colab": {
          "base_uri": "https://localhost:8080/"
        },
        "id": "csVVvUp9YVBc",
        "outputId": "4f7585ef-fa78-4d41-afca-a951acc617ee"
      },
      "execution_count": null,
      "outputs": [
        {
          "output_type": "stream",
          "name": "stdout",
          "text": [
            "12\n"
          ]
        }
      ]
    },
    {
      "cell_type": "markdown",
      "source": [
        "5. What are iterators in Python and how do they differ from iterables?\n",
        "\n",
        "   -  Iterable: An object that can be iterated over (e.g., lists, tuples, strings). It has the __iter__() method.\n",
        "\n",
        "     Iterator: An object that produces values one at a time using __next__(). It is created from an iterable using iter(iterable)."
      ],
      "metadata": {
        "id": "A8w-vSlkVDdT"
      }
    },
    {
      "cell_type": "code",
      "source": [
        "# Iterable\n",
        "my_list = [1, 2, 3]\n",
        "iterator = iter(my_list)  # Creating an iterator\n",
        "\n",
        "print(next(iterator))  # Output: 1\n",
        "print(next(iterator))  # Output: 2"
      ],
      "metadata": {
        "colab": {
          "base_uri": "https://localhost:8080/"
        },
        "id": "6KqWWAePVskO",
        "outputId": "f17cc6e1-6575-44fa-93e1-f26e6d242f7f"
      },
      "execution_count": null,
      "outputs": [
        {
          "output_type": "stream",
          "name": "stdout",
          "text": [
            "1\n",
            "2\n"
          ]
        }
      ]
    },
    {
      "cell_type": "markdown",
      "source": [
        "6. Explain the concept of generators in Python and how they are defined.\n",
        "\n",
        "   -   Advantages of Generators Over Regular Functions\n",
        "\n",
        "     Memory Efficiency: Generators do not store all values in memory.\n",
        "\n",
        "     Lazy Evaluation: Values are computed only when requested.\n",
        "\n",
        "     Improved Performance: Useful for handling large datasets.\n",
        "Simplified Code: No need to maintain state manually.\n",
        "\n",
        "     Example:"
      ],
      "metadata": {
        "id": "DS6ptHKJVyMO"
      }
    },
    {
      "cell_type": "code",
      "source": [
        "def count_up(n):\n",
        "    for i in range(n):\n",
        "        yield i  # Returns a value and pauses execution\n",
        "\n",
        "gen = count_up(3)\n",
        "print(next(gen))  # Output: 0\n",
        "print(next(gen))  # Output: 1"
      ],
      "metadata": {
        "colab": {
          "base_uri": "https://localhost:8080/"
        },
        "id": "_kLndM1VWopQ",
        "outputId": "2fbb6ad6-cb61-4a59-dad0-68da0728d486"
      },
      "execution_count": null,
      "outputs": [
        {
          "output_type": "stream",
          "name": "stdout",
          "text": [
            "0\n",
            "1\n"
          ]
        }
      ]
    },
    {
      "cell_type": "markdown",
      "source": [
        "7. What are the advantages of using generators over regular functions?\n",
        "\n",
        "  -  Advantages of Generators Over Regular Functions\n",
        "\n",
        "     Memory Efficiency: Generators do not store all values in memory.\n",
        "\n",
        "     Lazy Evaluation: Values are computed only when requested.\n",
        "\n",
        "     Improved Performance: Useful for handling large datasets.\n",
        "     Simplified Code: No need to maintain state manually."
      ],
      "metadata": {
        "id": "RvJwv8abgNkJ"
      }
    },
    {
      "cell_type": "code",
      "source": [
        "# Regular function (stores all values)\n",
        "def squares_list(n):\n",
        "    return [i ** 2 for i in range(n)]\n",
        "\n",
        "# Generator function (yields values one by one)\n",
        "def squares_generator(n):\n",
        "    for i in range(n):\n",
        "        yield i ** 2\n",
        "s1=squares_generator(4)\n",
        "print(s1)"
      ],
      "metadata": {
        "colab": {
          "base_uri": "https://localhost:8080/"
        },
        "id": "D40KtEWViCqU",
        "outputId": "dc172792-e03c-40d7-c3c4-734819032357"
      },
      "execution_count": null,
      "outputs": [
        {
          "output_type": "stream",
          "name": "stdout",
          "text": [
            "<generator object squares_generator at 0x7ea294c068e0>\n"
          ]
        }
      ]
    },
    {
      "cell_type": "markdown",
      "source": [
        "8.   What is a lambda function in Python and when is it typically used?\n",
        "\n",
        "  -   Lambda Function in Python\n",
        "A lambda function in Python is an anonymous function\n",
        "\n",
        " (a function without a name) that is defined using the lambda keyword. It can have multiple inputs but only one expression, which is evaluated and returned automatically.\n",
        "\n",
        "Syntax of a Lambda Function:"
      ],
      "metadata": {
        "id": "Il-mVfoSXFDC"
      }
    },
    {
      "cell_type": "code",
      "source": [
        "lambda arguments: expression"
      ],
      "metadata": {
        "id": "CgRW0jY1ailU"
      },
      "execution_count": null,
      "outputs": []
    },
    {
      "cell_type": "markdown",
      "source": [
        "lambda – Defines the function.\n",
        "\n",
        "arguments – Input values (like parameters in a normal function).\n",
        "\n",
        "expression – The computation or operation to return (must be a single expression)."
      ],
      "metadata": {
        "id": "RIGmhkyga4mF"
      }
    },
    {
      "cell_type": "markdown",
      "source": [
        "When is a Lambda Function Typically Used?\n",
        "\n",
        "Lambda functions are useful when we need a small, short-lived function that we don’t want to define using def. They are often used in:\n",
        "\n",
        "✅ One-liner functions – Simple calculations without defining a full function.\n",
        "\n",
        "✅ Sorting & Filtering – Used with sorted(), filter(), and map().\n",
        "\n",
        "✅ Inline function calls – Used where a function is needed temporarily.\n",
        "\n",
        "✅ Higher-order functions – Functions that take other functions as input.\n"
      ],
      "metadata": {
        "id": "EyNB1-N-bOrX"
      }
    },
    {
      "cell_type": "markdown",
      "source": [
        "Examples of Lambda Functions"
      ],
      "metadata": {
        "id": "9OsH0y-0cTDb"
      }
    },
    {
      "cell_type": "markdown",
      "source": [
        "Write a lambda function to calculate the square of a number"
      ],
      "metadata": {
        "id": "gTx2VN-WcnD_"
      }
    },
    {
      "cell_type": "code",
      "source": [
        "square = lambda x: x ** 2\n",
        "print(square(5))  # Output: 25"
      ],
      "metadata": {
        "colab": {
          "base_uri": "https://localhost:8080/"
        },
        "id": "PWkAPaHwcyc-",
        "outputId": "6640f99d-086c-4cc6-f07c-8a93035c5acd"
      },
      "execution_count": null,
      "outputs": [
        {
          "output_type": "stream",
          "name": "stdout",
          "text": [
            "25\n"
          ]
        }
      ]
    },
    {
      "cell_type": "markdown",
      "source": [
        "Example 2: Lambda with Multiple Arguments\n",
        "\n",
        "Question:\n",
        "  Write a lambda function to add two numbers."
      ],
      "metadata": {
        "id": "MSS1N0OQdU2r"
      }
    },
    {
      "cell_type": "code",
      "source": [
        "add = lambda a, b: a + b\n",
        "print(add(3, 7))  # Output: 10\n"
      ],
      "metadata": {
        "colab": {
          "base_uri": "https://localhost:8080/"
        },
        "id": "Z4Ztty1mdggd",
        "outputId": "f1462bd7-26e3-4d1b-e41e-260e7ae96469"
      },
      "execution_count": null,
      "outputs": [
        {
          "output_type": "stream",
          "name": "stdout",
          "text": [
            "10\n"
          ]
        }
      ]
    },
    {
      "cell_type": "markdown",
      "source": [
        "Example 3: Lambda Inside sorted()\n",
        "\n",
        "Question:\n",
        "Sort a list of tuples based on the second value using a lambda function."
      ],
      "metadata": {
        "id": "GfTirkKSdz80"
      }
    },
    {
      "cell_type": "code",
      "source": [
        "data = [(1, 3), (2, 2), (4, 1)]\n",
        "sorted_data = sorted(data, key=lambda x: x[1])  # Sort by second element\n",
        "print(sorted_data)"
      ],
      "metadata": {
        "colab": {
          "base_uri": "https://localhost:8080/"
        },
        "id": "VvJQJZ2hd6y-",
        "outputId": "3f221030-12ca-43ea-ccf4-6c044a39c5f2"
      },
      "execution_count": null,
      "outputs": [
        {
          "output_type": "stream",
          "name": "stdout",
          "text": [
            "[(4, 1), (2, 2), (1, 3)]\n"
          ]
        }
      ]
    },
    {
      "cell_type": "markdown",
      "source": [
        "Example Lambda Inside map()\n",
        "\n",
        "Question:\n",
        "Use a lambda function to double all numbers in a list."
      ],
      "metadata": {
        "id": "AcaFFVY3eLDq"
      }
    },
    {
      "cell_type": "code",
      "source": [
        "numbers = [1, 2, 3, 4, 5]\n",
        "doubled = list(map(lambda x: x * 2, numbers))\n",
        "print(doubled)  # Output: [2, 4, 6, 8, 10]"
      ],
      "metadata": {
        "colab": {
          "base_uri": "https://localhost:8080/"
        },
        "id": "qTFrguZpeqRR",
        "outputId": "ce1183a1-afc3-468f-f050-5b44b2a50a42"
      },
      "execution_count": null,
      "outputs": [
        {
          "output_type": "stream",
          "name": "stdout",
          "text": [
            "[2, 4, 6, 8, 10]\n"
          ]
        }
      ]
    },
    {
      "cell_type": "markdown",
      "source": [
        "9. Explain the purpose and usage of the map() function in Python."
      ],
      "metadata": {
        "id": "dw3DP0Ike0RA"
      }
    },
    {
      "cell_type": "markdown",
      "source": [
        "Purpose and Usage of map() Function in Python\n",
        "The map() function in Python is used to apply a function to each item in an iterable (like a list, tuple, etc.) and return a new iterable (map object) with the results. It helps in processing large amounts of data efficiently without using explicit loops."
      ],
      "metadata": {
        "id": "RQ6iJs9kfpF7"
      }
    },
    {
      "cell_type": "markdown",
      "source": [
        "Syntax of map()"
      ],
      "metadata": {
        "id": "c2uztrurgZ7X"
      }
    },
    {
      "cell_type": "markdown",
      "source": [
        "map(function, iterable)\n",
        "\n",
        "function – A function to apply to each element of the iterable.\n",
        "\n",
        "iterable – The collection (list, tuple, etc.) on which the function is applied.\n",
        "\n",
        "The result is a map object, which can be converted to a list or tuple."
      ],
      "metadata": {
        "id": "iKMk3GZvhBX0"
      }
    },
    {
      "cell_type": "markdown",
      "source": [
        "Example 1: Squaring Each Element in a List\n",
        "\n",
        "Question:\n",
        "Use map() to square all numbers in the list [1, 2, 3, 4, 5]."
      ],
      "metadata": {
        "id": "tNJNJAZeiLnC"
      }
    },
    {
      "cell_type": "code",
      "source": [
        "numbers = [1, 2, 3, 4, 5]\n",
        "squared = list(map(lambda x: x ** 2, numbers))\n",
        "print(squared)"
      ],
      "metadata": {
        "colab": {
          "base_uri": "https://localhost:8080/"
        },
        "id": "aNZuZLSGijLd",
        "outputId": "493ca222-88b1-417a-ca3f-15ec7f317fbf"
      },
      "execution_count": null,
      "outputs": [
        {
          "output_type": "stream",
          "name": "stdout",
          "text": [
            "[1, 4, 9, 16, 25]\n"
          ]
        }
      ]
    },
    {
      "cell_type": "markdown",
      "source": [
        "Example 2: Convert a List of Strings to Uppercase\n",
        "Question:\n",
        "Convert [\"hello\", \"world\"] to uppercase using map()."
      ],
      "metadata": {
        "id": "hAoRta7Hi8RB"
      }
    },
    {
      "cell_type": "code",
      "source": [
        "words = [\"hello\", \"world\"]\n",
        "uppercase_words = list(map(str.upper, words))\n",
        "print(uppercase_words)"
      ],
      "metadata": {
        "colab": {
          "base_uri": "https://localhost:8080/"
        },
        "id": "ss3J5remjBfV",
        "outputId": "fab649fb-c954-423d-9db4-33fa8b1ff11d"
      },
      "execution_count": null,
      "outputs": [
        {
          "output_type": "stream",
          "name": "stdout",
          "text": [
            "['HELLO', 'WORLD']\n"
          ]
        }
      ]
    },
    {
      "cell_type": "markdown",
      "source": [
        "Example 3: Using map() with Multiple Iterables\n",
        "\n",
        "Question:\n",
        "Add corresponding elements of two lists [1, 2, 3] and [4, 5, 6]."
      ],
      "metadata": {
        "id": "Lrf3Chb4jKPO"
      }
    },
    {
      "cell_type": "code",
      "source": [
        "list1 = [1, 2, 3]\n",
        "list2 = [4, 5, 6]\n",
        "sum_list = list(map(lambda x, y: x + y, list1, list2))\n",
        "print(sum_list)"
      ],
      "metadata": {
        "colab": {
          "base_uri": "https://localhost:8080/"
        },
        "id": "dJ6CN2Krjd_p",
        "outputId": "5a4740ea-04d1-4999-d4ab-e6ceb2522b36"
      },
      "execution_count": null,
      "outputs": [
        {
          "output_type": "stream",
          "name": "stdout",
          "text": [
            "[5, 7, 9]\n"
          ]
        }
      ]
    },
    {
      "cell_type": "markdown",
      "source": [
        "Example 4: Convert a List of Integers to Strings\n",
        "\n",
        "Question:\n",
        "Convert [10, 20, 30] into strings using map()."
      ],
      "metadata": {
        "id": "MlPFDamlj74J"
      }
    },
    {
      "cell_type": "code",
      "source": [
        "numbers = [10, 20, 30]\n",
        "str_numbers = list(map(str, numbers))\n",
        "print(str_numbers)"
      ],
      "metadata": {
        "colab": {
          "base_uri": "https://localhost:8080/"
        },
        "id": "GFxUL_U7kCYc",
        "outputId": "88a07e1a-1e42-4b43-c16d-9d7e8d60ac2e"
      },
      "execution_count": null,
      "outputs": [
        {
          "output_type": "stream",
          "name": "stdout",
          "text": [
            "['10', '20', '30']\n"
          ]
        }
      ]
    },
    {
      "cell_type": "markdown",
      "source": [
        "Example 5: Extract First Letter of Each Word\n",
        "\n",
        "Question:\n",
        "Extract the first letter from each word in [\"apple\", \"banana\", \"cherry\"]."
      ],
      "metadata": {
        "id": "bMjbQAKTkjN0"
      }
    },
    {
      "cell_type": "code",
      "source": [
        "words = [\"apple\", \"banana\", \"cherry\"]\n",
        "first_letters = list(map(lambda word: word[0], words))\n",
        "print(first_letters)"
      ],
      "metadata": {
        "colab": {
          "base_uri": "https://localhost:8080/"
        },
        "id": "lkKlrJ01lCC-",
        "outputId": "9e1bcf15-43a7-4582-96d0-4688adf3d8e9"
      },
      "execution_count": null,
      "outputs": [
        {
          "output_type": "stream",
          "name": "stdout",
          "text": [
            "['a', 'b', 'c']\n"
          ]
        }
      ]
    },
    {
      "cell_type": "markdown",
      "source": [
        "10. What is the difference between map(), reduce(), and filter() functions in Python?\n",
        "\n",
        "  -   The map(), reduce(), and filter() functions in Python are higher-order functions used for functional programming. Here’s how they differ:\n",
        "\n",
        "    1. map()\n",
        "Purpose: Applies a function to every item in an iterable (e.g., list, tuple) and returns a map object (which is an iterator).\n",
        "\n",
        "     Syntax: map(function, iterable)\n",
        "     \n",
        "     example"
      ],
      "metadata": {
        "id": "ywId9ekulPl3"
      }
    },
    {
      "cell_type": "code",
      "source": [
        "numbers = [1, 2, 3, 4]\n",
        "squared = list(map(lambda x: x**2, numbers))\n",
        "print(squared)  # Output: [1, 4, 9, 16]"
      ],
      "metadata": {
        "colab": {
          "base_uri": "https://localhost:8080/"
        },
        "id": "PcP2STimtHj0",
        "outputId": "29796346-2ea5-4bef-9066-b75933dde207"
      },
      "execution_count": 1,
      "outputs": [
        {
          "output_type": "stream",
          "name": "stdout",
          "text": [
            "[1, 4, 9, 16]\n"
          ]
        }
      ]
    },
    {
      "cell_type": "markdown",
      "source": [
        "Use Case: Whe you want to transform all elements in an iterable."
      ],
      "metadata": {
        "id": "XNSWRR8HuZag"
      }
    },
    {
      "cell_type": "markdown",
      "source": [
        "2. filter()\n",
        "\n",
        "     Purpose: Filters elements in an iterable based on a condition (i.e., keeps elements where the function returns True).\n",
        "\n",
        "     Syntax: filter(function, iterable)\n",
        "\n",
        "     Example:"
      ],
      "metadata": {
        "id": "VvnHJhBxtZPb"
      }
    },
    {
      "cell_type": "code",
      "source": [
        "numbers = [1, 2, 3, 4, 5, 6]\n",
        "even_numbers = list(filter(lambda x: x % 2 == 0, numbers))\n",
        "print(even_numbers)  # Output: [2, 4, 6]"
      ],
      "metadata": {
        "colab": {
          "base_uri": "https://localhost:8080/"
        },
        "id": "6rUs-4_HuDV1",
        "outputId": "28443d37-b451-44c7-d76c-7ca1e6b3d91f"
      },
      "execution_count": 2,
      "outputs": [
        {
          "output_type": "stream",
          "name": "stdout",
          "text": [
            "[2, 4, 6]\n"
          ]
        }
      ]
    },
    {
      "cell_type": "markdown",
      "source": [
        "Use Case: When you want to select only certain elements from an iterable."
      ],
      "metadata": {
        "id": "vkiNTTPiue-_"
      }
    },
    {
      "cell_type": "markdown",
      "source": [
        "3. reduce() (from functools module)\n",
        "\n",
        "Purpose: Applies a function cumulatively to the elements of an iterable, reducing them to a single value.\n",
        "\n",
        "Syntax: reduce(function, iterable[, initializer])\n",
        "Example:"
      ],
      "metadata": {
        "id": "4tamowTjuqKv"
      }
    },
    {
      "cell_type": "code",
      "source": [
        "from functools import reduce\n",
        "numbers = [1, 2, 3, 4]\n",
        "product = reduce(lambda x, y: x * y, numbers)\n",
        "print(product)  # Output: 24"
      ],
      "metadata": {
        "colab": {
          "base_uri": "https://localhost:8080/"
        },
        "id": "axEoqXq7u7v9",
        "outputId": "e1aaef78-f532-4aed-e195-7543afd1b4cf"
      },
      "execution_count": 3,
      "outputs": [
        {
          "output_type": "stream",
          "name": "stdout",
          "text": [
            "24\n"
          ]
        }
      ]
    },
    {
      "cell_type": "markdown",
      "source": [
        "11. Using pen & Paper write the internal mechanism for sum operation using  reduce function on this given\n",
        "list:[47,11,42,13];\n",
        "\n",
        "   -  Let's break down the internal mechanism of the reduce() function step by step for the sum operation on the list [47, 11, 42, 13].\n",
        "\n",
        "Code Implementation"
      ],
      "metadata": {
        "id": "EkJl2YMPy5cT"
      }
    },
    {
      "cell_type": "code",
      "source": [
        "from functools import reduce\n",
        "\n",
        "numbers = [47, 11, 42, 13]\n",
        "result = reduce(lambda x, y: x + y, numbers)\n",
        "print(result)  # Output: 113"
      ],
      "metadata": {
        "colab": {
          "base_uri": "https://localhost:8080/"
        },
        "id": "UET3moF9B0Pd",
        "outputId": "19522d1c-4ad1-4f31-f4ec-8dda12c39a30"
      },
      "execution_count": 4,
      "outputs": [
        {
          "output_type": "stream",
          "name": "stdout",
          "text": [
            "113\n"
          ]
        }
      ]
    },
    {
      "cell_type": "markdown",
      "source": [
        "Internal Working (Step-by-Step Execution)\n",
        "Initial List:"
      ],
      "metadata": {
        "id": "b1bWO0GjB-AK"
      }
    },
    {
      "cell_type": "code",
      "source": [
        "numbers = [47, 11, 42, 13]"
      ],
      "metadata": {
        "id": "jRpdBH5OB9Bi"
      },
      "execution_count": null,
      "outputs": []
    },
    {
      "cell_type": "markdown",
      "source": [
        "Step 1:\n",
        "The reduce() function starts by taking the first two elements of the list and applying the lambda function:"
      ],
      "metadata": {
        "id": "m9d_GT8PCHql"
      }
    },
    {
      "cell_type": "code",
      "source": [
        "x = 47, y = 11\n",
        "47 + 11 = 58"
      ],
      "metadata": {
        "id": "lW5Vkn0ECVah"
      },
      "execution_count": null,
      "outputs": []
    },
    {
      "cell_type": "markdown",
      "source": [
        "Step 2:\n",
        "The result 58 becomes the new first argument (x), and the next element in the list (42) becomes y:"
      ],
      "metadata": {
        "id": "MGyk4M3eCerJ"
      }
    },
    {
      "cell_type": "code",
      "source": [
        "x = 58, y = 42\n",
        "58 + 42 = 100"
      ],
      "metadata": {
        "id": "wGLRtha8Cr9b"
      },
      "execution_count": null,
      "outputs": []
    },
    {
      "cell_type": "markdown",
      "source": [
        "Step 3:\n",
        "The result 100 now becomes x, and the next element 13 becomes y:"
      ],
      "metadata": {
        "id": "ry63BJtkCxsg"
      }
    },
    {
      "cell_type": "code",
      "source": [
        "x = 100, y = 13\n",
        "100 + 13 = 113"
      ],
      "metadata": {
        "id": "zJOhV3jbC80U"
      },
      "execution_count": null,
      "outputs": []
    },
    {
      "cell_type": "markdown",
      "source": [
        "Final Output:"
      ],
      "metadata": {
        "id": "ePpEhrwzDB-p"
      }
    },
    {
      "cell_type": "code",
      "source": [
        "result = 113"
      ],
      "metadata": {
        "id": "9VIt_-OaDHFk"
      },
      "execution_count": null,
      "outputs": []
    },
    {
      "cell_type": "markdown",
      "source": [],
      "metadata": {
        "id": "mr5779bYB7ce"
      }
    },
    {
      "cell_type": "markdown",
      "source": [
        "# **PRACTICAL QUESTIONS**"
      ],
      "metadata": {
        "id": "IkhtfAaEDfsF"
      }
    },
    {
      "cell_type": "markdown",
      "source": [
        "1. Write a Python function that takes a list of numbers as input and returns the sum of all even numbers in\n",
        "the list."
      ],
      "metadata": {
        "id": "ZqNtecbGEMut"
      }
    },
    {
      "cell_type": "code",
      "source": [
        "def sum_of_evens(numbers):\n",
        "    return sum(filter(lambda x: x % 2 == 0, numbers))\n",
        "\n",
        "# Example usage\n",
        "numbers = [1, 2, 3, 4, 5, 6, 7, 8]\n",
        "result = sum_of_evens(numbers)\n",
        "print(result)  # Output: 20"
      ],
      "metadata": {
        "colab": {
          "base_uri": "https://localhost:8080/"
        },
        "id": "cEBKLmFeEPPo",
        "outputId": "60c318c0-a0cf-4040-fca9-48c9c81ce305"
      },
      "execution_count": 5,
      "outputs": [
        {
          "output_type": "stream",
          "name": "stdout",
          "text": [
            "20\n"
          ]
        }
      ]
    },
    {
      "cell_type": "markdown",
      "source": [
        "2. Create a Python function that accepts a string and returns the reverse of that string."
      ],
      "metadata": {
        "id": "v-sO0OF8HAHm"
      }
    },
    {
      "cell_type": "code",
      "source": [
        "def reverse_string(s):\n",
        "    return s[::-1]\n",
        "\n",
        "# Example usage\n",
        "text = \"Hello, World!\"\n",
        "result = reverse_string(text)\n",
        "print(result)  # Output: \"!dlroW ,olleH\""
      ],
      "metadata": {
        "colab": {
          "base_uri": "https://localhost:8080/"
        },
        "id": "DgE9i0kLHZJa",
        "outputId": "631db609-6518-48e5-b776-e1c200abb279"
      },
      "execution_count": 6,
      "outputs": [
        {
          "output_type": "stream",
          "name": "stdout",
          "text": [
            "!dlroW ,olleH\n"
          ]
        }
      ]
    },
    {
      "cell_type": "markdown",
      "source": [
        "3. Implement a Python function that takes a list of integers and returns a new list containing the squares of\n",
        "each number."
      ],
      "metadata": {
        "id": "-5RFtLrfIPtl"
      }
    },
    {
      "cell_type": "code",
      "source": [
        "def square_numbers(numbers):\n",
        "    return [x ** 2 for x in numbers]\n",
        "\n",
        "# Example usage\n",
        "nums = [1, 2, 3, 4, 5]\n",
        "result = square_numbers(nums)\n",
        "print(result)  # Output: [1, 4, 9, 16, 25]"
      ],
      "metadata": {
        "colab": {
          "base_uri": "https://localhost:8080/"
        },
        "id": "3Cmp4Xp-IzQW",
        "outputId": "c984dd8e-0aeb-4f30-c81f-cffe38fe4ef0"
      },
      "execution_count": 1,
      "outputs": [
        {
          "output_type": "stream",
          "name": "stdout",
          "text": [
            "[1, 4, 9, 16, 25]\n"
          ]
        }
      ]
    },
    {
      "cell_type": "markdown",
      "source": [
        "4. Write a Python function that checks if a given number is prime or not from 1 to 200."
      ],
      "metadata": {
        "id": "gPT6uWMHhIqV"
      }
    },
    {
      "cell_type": "code",
      "source": [
        "def is_prime(n):\n",
        "    if n < 2:\n",
        "        return False  # 0 and 1 are not prime numbers\n",
        "    for i in range(2, int(n ** 0.5) + 1):  # Check divisibility up to √n\n",
        "        if n % i == 0:\n",
        "            return False\n",
        "    return True\n",
        "\n",
        "# Example usage: Checking prime numbers from 1 to 200\n",
        "prime_numbers = [n for n in range(1, 201) if is_prime(n)]\n",
        "print(prime_numbers)"
      ],
      "metadata": {
        "colab": {
          "base_uri": "https://localhost:8080/"
        },
        "id": "zDOwGuRxhEgN",
        "outputId": "b2221898-fa79-436a-e506-f6b0cb666941"
      },
      "execution_count": 2,
      "outputs": [
        {
          "output_type": "stream",
          "name": "stdout",
          "text": [
            "[2, 3, 5, 7, 11, 13, 17, 19, 23, 29, 31, 37, 41, 43, 47, 53, 59, 61, 67, 71, 73, 79, 83, 89, 97, 101, 103, 107, 109, 113, 127, 131, 137, 139, 149, 151, 157, 163, 167, 173, 179, 181, 191, 193, 197, 199]\n"
          ]
        }
      ]
    },
    {
      "cell_type": "markdown",
      "source": [
        "5. Create an iterator class in Python that generates the Fibonacci sequence up to a specified number of terms"
      ],
      "metadata": {
        "id": "vV43IfTMhO4-"
      }
    },
    {
      "cell_type": "code",
      "source": [
        "class FibonacciIterator:\n",
        "    def __init__(self, n_terms):\n",
        "        self.n_terms = n_terms  # Total terms to generate\n",
        "        self.a, self.b = 0, 1   # First two terms\n",
        "        self.count = 0          # Counter to track terms\n",
        "\n",
        "    def __iter__(self):\n",
        "        return self  # An iterator should return itself\n",
        "\n",
        "    def __next__(self):\n",
        "        if self.count >= self.n_terms:  # Stop iteration when limit is reached\n",
        "            raise StopIteration\n",
        "        if self.count == 0:\n",
        "            self.count += 1\n",
        "            return self.a\n",
        "        elif self.count == 1:\n",
        "            self.count += 1\n",
        "            return self.b\n",
        "\n",
        "        # Calculate next Fibonacci number\n",
        "        self.a, self.b = self.b, self.a + self.b\n",
        "        self.count += 1\n",
        "        return self.a\n",
        "\n",
        "# Example usage:\n",
        "fib_iter = FibonacciIterator(10)  # Generate first 10 Fibonacci numbers\n",
        "fib_list = list(fib_iter)\n",
        "print(fib_list)  # Output: [0, 1, 1, 2, 3, 5, 8, 13, 21, 34]"
      ],
      "metadata": {
        "colab": {
          "base_uri": "https://localhost:8080/"
        },
        "id": "UGNVyR0Yhj4a",
        "outputId": "a4c4adbc-6f13-4a11-afe5-da0c881230d7"
      },
      "execution_count": 4,
      "outputs": [
        {
          "output_type": "stream",
          "name": "stdout",
          "text": [
            "[0, 1, 1, 1, 2, 3, 5, 8, 13, 21]\n"
          ]
        }
      ]
    },
    {
      "cell_type": "markdown",
      "source": [
        "6. Write a generator function in Python that yields the powers of 2 up to a given exponent."
      ],
      "metadata": {
        "id": "aIBeRAPGnlXr"
      }
    },
    {
      "cell_type": "code",
      "source": [
        "def powers_of_two(max_exponent):\n",
        "    for exp in range(max_exponent + 1):  # Loop from 0 to max_exponent\n",
        "        yield 2 ** exp  # Yield power of 2\n",
        "\n",
        "# Example usage:\n",
        "for power in powers_of_two(5):\n",
        "    print(power)"
      ],
      "metadata": {
        "colab": {
          "base_uri": "https://localhost:8080/"
        },
        "id": "juUh2eU7n27T",
        "outputId": "4483b105-8346-4c1e-d591-b34189b5a75a"
      },
      "execution_count": 5,
      "outputs": [
        {
          "output_type": "stream",
          "name": "stdout",
          "text": [
            "1\n",
            "2\n",
            "4\n",
            "8\n",
            "16\n",
            "32\n"
          ]
        }
      ]
    },
    {
      "cell_type": "markdown",
      "source": [
        "7. Implement a generator function that reads a file line by line and yields each line as a string"
      ],
      "metadata": {
        "id": "n318C6qHoKms"
      }
    },
    {
      "cell_type": "code",
      "source": [
        "def read_file_line_by_line(file_path):\n",
        "    \"\"\"Generator function to read a file line by line.\"\"\"\n",
        "    with open(file_path, 'r', encoding='utf-8') as file:\n",
        "        for line in file:\n",
        "            yield line.strip()  # Yield each line after removing trailing newline characters\n"
      ],
      "metadata": {
        "id": "GfFgYwKCoTyO"
      },
      "execution_count": 10,
      "outputs": []
    },
    {
      "cell_type": "markdown",
      "source": [
        "8. Use a lambda function in Python to sort a list of tuples based on the second element of each tuple."
      ],
      "metadata": {
        "id": "lVcTReQApBbV"
      }
    },
    {
      "cell_type": "code",
      "source": [
        "# List of tuples\n",
        "data = [(1, 3), (4, 1), (2, 5), (3, 2)]\n",
        "\n",
        "# Sorting using a lambda function\n",
        "sorted_data = sorted(data, key=lambda x: x[1])\n",
        "\n",
        "# Output the sorted list\n",
        "print(sorted_data)"
      ],
      "metadata": {
        "colab": {
          "base_uri": "https://localhost:8080/"
        },
        "id": "oB5QDGxVpRiu",
        "outputId": "0f78d705-3652-480d-ef9d-ba82e188a24b"
      },
      "execution_count": 11,
      "outputs": [
        {
          "output_type": "stream",
          "name": "stdout",
          "text": [
            "[(4, 1), (3, 2), (1, 3), (2, 5)]\n"
          ]
        }
      ]
    },
    {
      "cell_type": "markdown",
      "source": [
        "9. Write a Python program that uses `map()` to convert a list of temperatures from Celsius to Fahrenheit."
      ],
      "metadata": {
        "id": "x6MWDBHDpY6G"
      }
    },
    {
      "cell_type": "code",
      "source": [
        "# List of temperatures in Celsius\n",
        "celsius_temps = [0, 10, 20, 30, 37, 100]\n",
        "\n",
        "# Convert to Fahrenheit using map() and a lambda function\n",
        "fahrenheit_temps = list(map(lambda c: (c * 9/5) + 32, celsius_temps))\n",
        "\n",
        "# Output the result\n",
        "print(\"Temperatures in Fahrenheit:\", fahrenheit_temps)"
      ],
      "metadata": {
        "colab": {
          "base_uri": "https://localhost:8080/"
        },
        "id": "xEFpZayq1MF9",
        "outputId": "69ae0ef9-386e-43b5-858c-2a3969e8a8db"
      },
      "execution_count": 12,
      "outputs": [
        {
          "output_type": "stream",
          "name": "stdout",
          "text": [
            "Temperatures in Fahrenheit: [32.0, 50.0, 68.0, 86.0, 98.6, 212.0]\n"
          ]
        }
      ]
    },
    {
      "cell_type": "markdown",
      "source": [
        "10. Create a Python program that uses `filter()` to remove all the vowels from a given string."
      ],
      "metadata": {
        "id": "x6_Wxl4P1fx0"
      }
    },
    {
      "cell_type": "code",
      "source": [
        "# Function to check if a character is a vowel\n",
        "is_not_vowel = lambda ch: ch.lower() not in 'aeiou'\n",
        "\n",
        "# Input string\n",
        "input_string = \"Hello, how are you?\"\n",
        "\n",
        "# Use filter() to remove vowels\n",
        "filtered_string = \"\".join(filter(is_not_vowel, input_string))\n",
        "\n",
        "# Output the result\n",
        "print(\"String without vowels:\", filtered_string)"
      ],
      "metadata": {
        "colab": {
          "base_uri": "https://localhost:8080/"
        },
        "id": "df9Pl5h31tY7",
        "outputId": "38d8cc66-b9d7-4e7f-b05d-2b090ef00ca8"
      },
      "execution_count": 13,
      "outputs": [
        {
          "output_type": "stream",
          "name": "stdout",
          "text": [
            "String without vowels: Hll, hw r y?\n"
          ]
        }
      ]
    }
  ]
}